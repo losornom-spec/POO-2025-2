{
  "nbformat": 4,
  "nbformat_minor": 0,
  "metadata": {
    "colab": {
      "provenance": [],
      "include_colab_link": true
    },
    "kernelspec": {
      "name": "python3",
      "display_name": "Python 3"
    },
    "language_info": {
      "name": "python"
    }
  },
  "cells": [
    {
      "cell_type": "markdown",
      "metadata": {
        "id": "view-in-github",
        "colab_type": "text"
      },
      "source": [
        "<a href=\"https://colab.research.google.com/github/losornom-spec/POO-2025-2/blob/main/Actividad_1_POO.ipynb\" target=\"_parent\"><img src=\"https://colab.research.google.com/assets/colab-badge.svg\" alt=\"Open In Colab\"/></a>"
      ]
    },
    {
      "cell_type": "code",
      "source": [
        "\n",
        "from IPython.display import HTML, display\n",
        "\n",
        "# Código HTML y CSS para recrear tu portada de LaTeX\n",
        "portada_html = \"\"\"\n",
        "<div style=\"\n",
        "    max-width: 13.5cm;\n",
        "    margin: 20px auto;\n",
        "    padding: 60px 40px;\n",
        "    text-align: center;\n",
        "    font-family: 'Times New Roman', serif;\n",
        "    color: #000;\n",
        "    background: white;\n",
        "    border: 1px solid #ddd;\n",
        "    box-shadow: 0 4px 8px rgba(0,0,0,0.1);\n",
        "    min-height: 800px;\n",
        "    display: flex;\n",
        "    flex-direction: column;\n",
        "    justify-content: space-between;\n",
        "\">\n",
        "    <div>\n",
        "        <!-- LOGO SECTION -->\n",
        "        <div style=\"margin-bottom: 30px;\">\n",
        "            <!-- Placeholder para logo - puedes reemplazar con imagen real -->\n",
        "            <div style=\"\n",
        "                width: 60px;\n",
        "                height: 80px;\n",
        "                background: #003366;\n",
        "                margin: 0 auto;\n",
        "                display: flex;\n",
        "                align-items: center;\n",
        "                justify-content: center;\n",
        "                color: white;\n",
        "                font-size: 12px;\n",
        "                font-weight: bold;\n",
        "                border-radius: 5px;\n",
        "            \">LOGO<br>UNAL</div>\n",
        "        </div>\n",
        "\n",
        "        <!-- HEADING SECTIONS -->\n",
        "        <div style=\"margin-bottom: 50px;\">\n",
        "            <div style=\"\n",
        "                font-size: 16px;\n",
        "                font-weight: normal;\n",
        "                letter-spacing: 2px;\n",
        "                text-transform: uppercase;\n",
        "                line-height: 1.6;\n",
        "            \">\n",
        "                <strong>UNIVERSIDAD NACIONAL DE COLOMBIA</strong>\n",
        "            </div>\n",
        "            <div style=\"\n",
        "                margin-top: 25px;\n",
        "                font-size: 14px;\n",
        "                line-height: 1.4;\n",
        "            \">\n",
        "                <strong>PREGRADO EN ESTADÍSTICA</strong><br>\n",
        "                Departamento de Estadística<br>\n",
        "                Facultad de Ciencias\n",
        "            </div>\n",
        "        </div>\n",
        "\n",
        "        <!-- TITLE SECTION -->\n",
        "        <div style=\"margin-bottom: 30px;\">\n",
        "            <!-- Líneas decorativas y título del curso -->\n",
        "            <div style=\"\n",
        "                display: flex;\n",
        "                align-items: center;\n",
        "                justify-content: center;\n",
        "                margin-bottom: 10px;\n",
        "            \">\n",
        "                <div style=\"\n",
        "                    width: 12px;\n",
        "                    height: 2px;\n",
        "                    background: #000;\n",
        "                    margin-right: 15px;\n",
        "                \"></div>\n",
        "                <span style=\"\n",
        "                    font-size: 16px;\n",
        "                    letter-spacing: 1px;\n",
        "                    text-transform: uppercase;\n",
        "                    font-weight: normal;\n",
        "                \">Diseño de experimentos</span>\n",
        "                <div style=\"\n",
        "                    width: 12px;\n",
        "                    height: 2px;\n",
        "                    background: #000;\n",
        "                    margin-left: 15px;\n",
        "                \"></div>\n",
        "            </div>\n",
        "\n",
        "            <!-- Subtítulo -->\n",
        "            <div style=\"\n",
        "                font-size: 18px;\n",
        "                font-style: italic;\n",
        "                margin: 10px 0 20px;\n",
        "            \">\n",
        "                Informe final\n",
        "            </div>\n",
        "\n",
        "            <!-- Línea horizontal principal -->\n",
        "            <div style=\"\n",
        "                width: 100%;\n",
        "                height: 2px;\n",
        "                background: #000;\n",
        "                margin: 30px 0;\n",
        "            \"></div>\n",
        "\n",
        "            <!-- Información del estudiante -->\n",
        "            <div style=\"\n",
        "                font-size: 14px;\n",
        "                margin: 30px 0;\n",
        "            \">\n",
        "                <div style=\"margin-bottom: 15px;\">\n",
        "                    <strong>Estudiantes:</strong>\n",
        "                </div>\n",
        "                <div style=\"margin-bottom: 10px;\">\n",
        "                    Luis Gabriel Osorno Muñoz &nbsp;&nbsp;&nbsp; C.C. 12345678910\n",
        "                </div>\n",
        "                <div>\n",
        "                    losornom@unal.edu.co\n",
        "                </div>\n",
        "            </div>\n",
        "        </div>\n",
        "    </div>\n",
        "\n",
        "    <!-- FOOTER -->\n",
        "    <div style=\"\n",
        "        font-size: 14px;\n",
        "        margin-top: auto;\n",
        "    \">\n",
        "        <div style=\"margin-bottom: 8px;\">\n",
        "            Medellín, Colombia\n",
        "        </div>\n",
        "        <div>\n",
        "            Julio 10 de 2025\n",
        "        </div>\n",
        "    </div>\n",
        "</div>\n",
        "\"\"\"\n",
        "\n",
        "# Mostrar la portada\n",
        "display(HTML(portada_html))\n"
      ],
      "metadata": {
        "id": "H7Ku9Q1Kfbre",
        "outputId": "abf03fb1-a748-431c-bcab-957cc8b5134b",
        "colab": {
          "base_uri": "https://localhost:8080/",
          "height": 979
        }
      },
      "execution_count": null,
      "outputs": [
        {
          "output_type": "display_data",
          "data": {
            "text/plain": [
              "<IPython.core.display.HTML object>"
            ],
            "text/html": [
              "\n",
              "<div style=\"\n",
              "    max-width: 13.5cm;\n",
              "    margin: 20px auto;\n",
              "    padding: 60px 40px;\n",
              "    text-align: center;\n",
              "    font-family: 'Times New Roman', serif;\n",
              "    color: #000;\n",
              "    background: white;\n",
              "    border: 1px solid #ddd;\n",
              "    box-shadow: 0 4px 8px rgba(0,0,0,0.1);\n",
              "    min-height: 800px;\n",
              "    display: flex;\n",
              "    flex-direction: column;\n",
              "    justify-content: space-between;\n",
              "\">\n",
              "    <div>\n",
              "        <!-- LOGO SECTION -->\n",
              "        <div style=\"margin-bottom: 30px;\">\n",
              "            <!-- Placeholder para logo - puedes reemplazar con imagen real -->\n",
              "            <div style=\"\n",
              "                width: 60px;\n",
              "                height: 80px;\n",
              "                background: #003366;\n",
              "                margin: 0 auto;\n",
              "                display: flex;\n",
              "                align-items: center;\n",
              "                justify-content: center;\n",
              "                color: white;\n",
              "                font-size: 12px;\n",
              "                font-weight: bold;\n",
              "                border-radius: 5px;\n",
              "            \">LOGO<br>UNAL</div>\n",
              "        </div>\n",
              "\n",
              "        <!-- HEADING SECTIONS -->\n",
              "        <div style=\"margin-bottom: 50px;\">\n",
              "            <div style=\"\n",
              "                font-size: 16px;\n",
              "                font-weight: normal;\n",
              "                letter-spacing: 2px;\n",
              "                text-transform: uppercase;\n",
              "                line-height: 1.6;\n",
              "            \">\n",
              "                <strong>UNIVERSIDAD NACIONAL DE COLOMBIA</strong>\n",
              "            </div>\n",
              "            <div style=\"\n",
              "                margin-top: 25px;\n",
              "                font-size: 14px;\n",
              "                line-height: 1.4;\n",
              "            \">\n",
              "                <strong>PREGRADO EN ESTADÍSTICA</strong><br>\n",
              "                Departamento de Estadística<br>\n",
              "                Facultad de Ciencias\n",
              "            </div>\n",
              "        </div>\n",
              "\n",
              "        <!-- TITLE SECTION -->\n",
              "        <div style=\"margin-bottom: 30px;\">\n",
              "            <!-- Líneas decorativas y título del curso -->\n",
              "            <div style=\"\n",
              "                display: flex;\n",
              "                align-items: center;\n",
              "                justify-content: center;\n",
              "                margin-bottom: 10px;\n",
              "            \">\n",
              "                <div style=\"\n",
              "                    width: 12px;\n",
              "                    height: 2px;\n",
              "                    background: #000;\n",
              "                    margin-right: 15px;\n",
              "                \"></div>\n",
              "                <span style=\"\n",
              "                    font-size: 16px;\n",
              "                    letter-spacing: 1px;\n",
              "                    text-transform: uppercase;\n",
              "                    font-weight: normal;\n",
              "                \">Diseño de experimentos</span>\n",
              "                <div style=\"\n",
              "                    width: 12px;\n",
              "                    height: 2px;\n",
              "                    background: #000;\n",
              "                    margin-left: 15px;\n",
              "                \"></div>\n",
              "            </div>\n",
              "\n",
              "            <!-- Subtítulo -->\n",
              "            <div style=\"\n",
              "                font-size: 18px;\n",
              "                font-style: italic;\n",
              "                margin: 10px 0 20px;\n",
              "            \">\n",
              "                Informe final\n",
              "            </div>\n",
              "\n",
              "            <!-- Línea horizontal principal -->\n",
              "            <div style=\"\n",
              "                width: 100%;\n",
              "                height: 2px;\n",
              "                background: #000;\n",
              "                margin: 30px 0;\n",
              "            \"></div>\n",
              "\n",
              "            <!-- Información del estudiante -->\n",
              "            <div style=\"\n",
              "                font-size: 14px;\n",
              "                margin: 30px 0;\n",
              "            \">\n",
              "                <div style=\"margin-bottom: 15px;\">\n",
              "                    <strong>Estudiantes:</strong>\n",
              "                </div>\n",
              "                <div style=\"margin-bottom: 10px;\">\n",
              "                    Luis Gabriel Osorno Muñoz &nbsp;&nbsp;&nbsp; C.C. 12345678910\n",
              "                </div>\n",
              "                <div>\n",
              "                    losornom@unal.edu.co\n",
              "                </div>\n",
              "            </div>\n",
              "        </div>\n",
              "    </div>\n",
              "\n",
              "    <!-- FOOTER -->\n",
              "    <div style=\"\n",
              "        font-size: 14px;\n",
              "        margin-top: auto;\n",
              "    \">\n",
              "        <div style=\"margin-bottom: 8px;\">\n",
              "            Medellín, Colombia\n",
              "        </div>\n",
              "        <div>\n",
              "            Julio 10 de 2025\n",
              "        </div>\n",
              "    </div>\n",
              "</div>\n"
            ]
          },
          "metadata": {}
        }
      ]
    },
    {
      "cell_type": "markdown",
      "source": [
        "**Ejercicio Resuelto No 4**\n",
        "\n",
        "A la mamá de Juan le preguntan su edad, y contesta: tengo 3 hijos, pregúntele a Juan su edad. Alberto tiene 2/3 de la edad de Juan, Ana tiene 4/3 de la edad de Juan y mi edad es la suma de las tres. Hacer un algoritmo que muestre la edad de los cuatro.\n"
      ],
      "metadata": {
        "id": "0pmvKQSu-EhQ"
      }
    },
    {
      "cell_type": "code",
      "source": [
        "class Calculos:\n",
        "\n",
        "  def edadAlbert(edadJuan):\n",
        "    edadAlbert = 2 * (edadJuan / 3)\n",
        "    return edadAlbert\n",
        "\n",
        "  def edadAna(edadJuan):\n",
        "    edadAna = 4 * (edadJuan / 3)\n",
        "    return edadAna\n",
        "\n",
        "  def edadMama(edadJuan, edadAlbert, edadAna):\n",
        "    edadMama = edadJuan + edadAlbert + edadAna\n",
        "    return edadMama\n",
        "\n",
        "def edadfamiliar(edadJuan):\n",
        "  edadAlbert = Calculos.edadAlbert(edadJuan)\n",
        "  edadAna = Calculos.edadAna(edadJuan)\n",
        "  edadMama = Calculos.edadMama(edadJuan, edadAlbert, edadAna)\n",
        "  print(\"la edad de Juan es\", edadJuan)\n",
        "  print(\"la edad de Albert es\", edadAlbert)\n",
        "  print(\"la edad de Ana es\", edadAna)\n",
        "  print(\"la edad de Mamá es\", edadMama)\n",
        "\n",
        "edadJuan = int(input(\"Ingrese la edad de Juan: \", ))\n",
        "\n",
        "edadfamiliar(edadJuan)"
      ],
      "metadata": {
        "colab": {
          "base_uri": "https://localhost:8080/"
        },
        "id": "axg_CMbm-DC4",
        "outputId": "e4d6a4d5-c187-4e60-bb67-1aa0136c7a7b"
      },
      "execution_count": null,
      "outputs": [
        {
          "output_type": "stream",
          "name": "stdout",
          "text": [
            "Ingrese la edad de Juan: 9\n",
            "la edad de Juan es 9\n",
            "la edad de Albert es 6.0\n",
            "la edad de Ana es 12.0\n",
            "la edad de Mamá es 27.0\n"
          ]
        }
      ]
    },
    {
      "cell_type": "markdown",
      "source": [
        "**Ejercicio Resuelto No 5**\n",
        "\n",
        "Hacer un seguimiento (prueba de escritorio) del siguiente grupo de instrucciones.\n",
        "\n",
        "INICIO\n",
        "\n",
        "SUMA = 0\n",
        "\n",
        "X = 20\n",
        "\n",
        "SUMA = SUMA + X\n",
        "\n",
        "Y = 40\n",
        "\n",
        "X = X + Y ** 2\n",
        "\n",
        "SUMA = SUMA + X / Y\n",
        "\n",
        "ESCRIBA: “EL VALOR DE LA SUMA ES:”, SUMA\n",
        "\n",
        "FIN_INICIO"
      ],
      "metadata": {
        "id": "GEtXOsR9-eOX"
      }
    },
    {
      "cell_type": "code",
      "source": [
        "class Operaciones:\n",
        "  def sumas(X, Y):\n",
        "    SUMA = 0\n",
        "    SUMA = SUMA + X\n",
        "    X = X + Y ** 2\n",
        "    SUMA = SUMA + X / Y\n",
        "    return SUMA\n",
        "\n",
        "X = float(input(\"Ingrese el valor de X: \", ))\n",
        "Y = float(input(\"Ingrese el valor de Y: \", ))\n",
        "valor = Operaciones.sumas(X, Y)\n",
        "print(\"EL VALOR DE LA SUMA ES: \", valor)"
      ],
      "metadata": {
        "colab": {
          "base_uri": "https://localhost:8080/"
        },
        "id": "bWinQG09FciK",
        "outputId": "cafa6102-67b5-4ab0-c87a-c4bb999301bd"
      },
      "execution_count": null,
      "outputs": [
        {
          "output_type": "stream",
          "name": "stdout",
          "text": [
            "Ingrese el valor de X: 20\n",
            "Ingrese el valor de Y: 40\n",
            "EL VALOR DE LA SUMA ES:  60.5\n"
          ]
        }
      ]
    },
    {
      "cell_type": "markdown",
      "source": [
        "**Ejercicio Propuesto No 12**\n",
        "\n",
        "Un empleado trabaja 48 horas en la semana a razón de $5.000 hora. El porcentaje de retención en la fuente es del 12,5% del salario bruto. Se desea saber cuál es el salario bruto, la retención en la fuente y el salario neto del trabajador."
      ],
      "metadata": {
        "id": "yE9iw591IXCO"
      }
    },
    {
      "cell_type": "code",
      "source": [
        "class Pagos:\n",
        "\n",
        "  def SalarioBruto(Horas, ValorHora):\n",
        "    SalarioBruto = Horas * ValorHora\n",
        "    return SalarioBruto\n",
        "\n",
        "  def ReteFuente(SalarioBruto, porcentaje):\n",
        "    ReteFuente = SalarioBruto * porcentaje\n",
        "    return ReteFuente\n",
        "\n",
        "  def SalarioNeto(SalarioBruto, ReteFuente):\n",
        "    SalarioNeto = SalarioBruto - ReteFuente\n",
        "    return SalarioNeto\n",
        "\n",
        "def Salarios(Horas, ValorHora, porcentaje):\n",
        "    SalarioBruto = Pagos.SalarioBruto(Horas, ValorHora)\n",
        "    ReteFuente = Pagos.ReteFuente(SalarioBruto, porcentaje)\n",
        "    SalarioNeto = Pagos.SalarioNeto(SalarioBruto, ReteFuente)\n",
        "    print(\"El Salario Bruto es: \", SalarioBruto)\n",
        "    print(\"El Retención en la fuente es: \", ReteFuente)\n",
        "    print(\"El Salario Neto es: \", SalarioNeto)\n",
        "\n",
        "Horas = float(input(\"Ingrese el número de horas trabajadas: \", ))\n",
        "ValorHora = float(input(\"Ingrese el valor de la hora: \", ))\n",
        "porcentaje = float(input(\"Ingrese el porcentaje de retención en la fuente: \", ))\n",
        "\n",
        "Salarios(Horas, ValorHora, porcentaje)"
      ],
      "metadata": {
        "colab": {
          "base_uri": "https://localhost:8080/"
        },
        "id": "ymLYqmk7KSQw",
        "outputId": "14d98d88-9ff0-4cda-fb45-bc6a3541d431"
      },
      "execution_count": null,
      "outputs": [
        {
          "output_type": "stream",
          "name": "stdout",
          "text": [
            "Ingrese el número de horas trabajadas: 48\n",
            "Ingrese el valor de la hora: 5000\n",
            "Ingrese el porcentaje de retención en la fuente: 0.125\n",
            "El Salario Bruto es:  240000.0\n",
            "El Retención en la fuente es:  30000.0\n",
            "El Salario Neto es:  210000.0\n"
          ]
        }
      ]
    },
    {
      "cell_type": "markdown",
      "source": [
        "**Ejercicio Propuesto No 14**\n",
        "\n",
        "Elabore un algoritmo que lea un número y obtenga su cuadrado y su cubo."
      ],
      "metadata": {
        "id": "nZLOCz1AL723"
      }
    },
    {
      "cell_type": "code",
      "source": [
        "class Calculos:\n",
        "\n",
        "  def cuadrado(numero):\n",
        "    cuadrado = numero ** 2\n",
        "    return cuadrado\n",
        "\n",
        "  def cubo(numero):\n",
        "    cubo = numero ** 3\n",
        "    return cubo\n",
        "\n",
        "def Operaciones(numero):\n",
        "  cuadrado = Calculos.cuadrado(numero)\n",
        "  cubo = Calculos.cubo(numero)\n",
        "  print(\"El cuadrado de\", numero, \"es\", cuadrado)\n",
        "  print(\"El cubo de\", numero, \"es\", cubo)\n",
        "\n",
        "numero = float(input(\"Ingrese un número: \", ))\n",
        "Operaciones(numero)"
      ],
      "metadata": {
        "colab": {
          "base_uri": "https://localhost:8080/"
        },
        "id": "KW4S4HwhMKYa",
        "outputId": "805f5161-a20c-42b8-f610-3213958c19b5"
      },
      "execution_count": null,
      "outputs": [
        {
          "output_type": "stream",
          "name": "stdout",
          "text": [
            "Ingrese un número: 2\n",
            "El cuadrado de 2.0 es 4.0\n",
            "El cubo de 2.0 es 8.0\n"
          ]
        }
      ]
    },
    {
      "cell_type": "markdown",
      "source": [
        "**Ejercicio Propuesto No 17**\n",
        "\n",
        "Dado el radio de un círculo. Haga un algoritmo que obtenga el área del círculo y la longitud de la circunferencia."
      ],
      "metadata": {
        "id": "Mx51ermvMhOA"
      }
    },
    {
      "cell_type": "code",
      "source": [
        "class Calculos:\n",
        "\n",
        "  def areaCirculo(radio):\n",
        "    area = 3.1416 * (radio ** 2)\n",
        "    return area\n",
        "\n",
        "  def longitudCircunferencia(radio):\n",
        "    longitud = 2 * 3.1416 * radio\n",
        "    return longitud\n",
        "\n",
        "def Operaciones(radio):\n",
        "  area = Calculos.areaCirculo(radio)\n",
        "  longitud = Calculos.longitudCircunferencia(radio)\n",
        "  print(\"El área del círculo es: \", area)\n",
        "  print(\"La longitud de la circunferencia es: \", longitud)\n",
        "\n",
        "radio = float(input(\"Ingrese el radio del círculo: \", ))\n",
        "Operaciones(radio)"
      ],
      "metadata": {
        "colab": {
          "base_uri": "https://localhost:8080/"
        },
        "id": "_2k24S2OMiSV",
        "outputId": "fc817220-a523-4b3a-c423-40a54004f778"
      },
      "execution_count": null,
      "outputs": [
        {
          "output_type": "stream",
          "name": "stdout",
          "text": [
            "Ingrese el radio del círculo: 5\n",
            "El área del círculo es:  78.53999999999999\n",
            "La longitud de la circunferencia es:  31.416\n"
          ]
        }
      ]
    }
  ]
}